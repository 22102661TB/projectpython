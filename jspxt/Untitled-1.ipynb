{
 "cells": [
  {
   "cell_type": "code",
   "execution_count": null,
   "metadata": {},
   "outputs": [],
   "source": [
    "\n",
    "import tkinter as tk\n",
    "import random\n",
    "\n",
    "# Initialiser la fenêtre Tkinter\n",
    "fenetre = tk.Tk()\n",
    "fenetre.title(\"Jeu du pendu\")\n",
    "label = tk.Label(fenetre, text=\"Bienvenue dans l e jeu du pendu\", font=(\"helvetica\", \"20\")) # création du widget\n",
    "label.grid() # positionnement du widget\n",
    "fenetre.geometry(500*500)\n",
    "fenetre.mainloop()\n",
    "\n",
    "# Définir la liste de mots pour le jeu\n",
    "liste_mots = [\"correction\", \"opportuniste\", \"ascenseur\", \"evrest\", \"situation\", \"saturation\", \"programmeur\",\"aviateur\",\"musicien\"]\n",
    "\n",
    "# Choisir un mot aléatoire de la liste\n",
    "mot_a_deviner = random.choice(liste_mots)\n",
    "\n",
    "# Initialiser les variables du jeu\n",
    "lettres_trouvees = []\n",
    "lettres_manquees = []\n",
    "nb_essais = 9\n",
    "\n",
    "def penduTick(self, event = None) : #Le code principale quand on clique sur le boutton Entrée\n",
    "\n",
    "        if self.essaies > 0 and not self.win: #Si on a encore des essaies et qu'on n'a pas encore gagné\n",
    "            \n",
    "            #On récupère ce que le joueur à entrée\n",
    "            self.congratsLabel.configure(text = \"\")\n",
    "            guess = self.guessEntry.get()\n",
    "            self.guessEntry.delete(0, len(guess))\n",
    "            if len(guess) != 1 :\n",
    "                guess = \"\"\n",
    "                self.congratsLabel.configure(text = \"Input only 1 character\")\n",
    "            for c in guess.lower() : #On vérifie si la lettre correspond à une lettre du mot (les lettres qui correspondent ne font pas perdre d'essaies)\n",
    "                #On peut rentré plusieurs lettres d'un coup: si le joueur rentre \"abcdefg\", sa va regarder pour toutes ces lettre si elle est dans le mot.\n",
    "                #On perd aussi plus d'essaies si on met plein de lettres qui ne sont pas dans le mot.\n",
    "                if c in self.motC.lower() :\n",
    "                    if c not in self.lettresTrouves : #Si la lettre est dans le mot, \n",
    "                        self.lettresTrouves.append(c)\n",
    "                else :\n",
    "                    try :\n",
    "                        int(c)\n",
    "                    except :\n",
    "                        self.essaies -= 1 #Mauvaise lettre ? Un essaie en moins et on dessine le pendu un peu plus\n",
    "                        self.drawNext()\n"
   ]
  }
 ],
 "metadata": {
  "language_info": {
   "name": "python"
  },
  "orig_nbformat": 4
 },
 "nbformat": 4,
 "nbformat_minor": 2
}
